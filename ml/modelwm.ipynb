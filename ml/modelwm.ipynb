{
 "cells": [
  {
   "cell_type": "code",
   "execution_count": 1,
   "id": "9dfd171f",
   "metadata": {},
   "outputs": [
    {
     "name": "stderr",
     "output_type": "stream",
     "text": [
      "2025-04-08 20:39:10.901209: I tensorflow/core/platform/cpu_feature_guard.cc:210] This TensorFlow binary is optimized to use available CPU instructions in performance-critical operations.\n",
      "To enable the following instructions: AVX2 FMA, in other operations, rebuild TensorFlow with the appropriate compiler flags.\n",
      "WARNING:absl:Compiled the loaded model, but the compiled metrics have yet to be built. `model.compile_metrics` will be empty until you train or evaluate the model.\n"
     ]
    }
   ],
   "source": [
    "# model.ipynb\n",
    "\n",
    "import cv2\n",
    "import numpy as np\n",
    "from collections import deque\n",
    "from tensorflow.keras.models import load_model\n",
    "\n",
    "# --- Config ---\n",
    "SEQUENCE_LENGTH = 15\n",
    "IMG_SIZE = 224\n",
    "CLASSES = ['bed', 'before', 'candy', 'cool', 'drink', 'go', 'help', 'thin']\n",
    "\n",
    "# --- Load Model ---\n",
    "model = load_model('asl_mobilenetv2_finetuned.h5')\n",
    "\n",
    "# --- Initialize sequence buffer ---\n",
    "sequence = deque(maxlen=SEQUENCE_LENGTH)\n"
   ]
  },
  {
   "cell_type": "code",
   "execution_count": 2,
   "id": "7ec552ec",
   "metadata": {},
   "outputs": [
    {
     "name": "stderr",
     "output_type": "stream",
     "text": [
      "2025-04-08 20:39:29.873 Python[11393:572670] WARNING: AVCaptureDeviceTypeExternal is deprecated for Continuity Cameras. Please use AVCaptureDeviceTypeContinuityCamera and add NSCameraUseContinuityCameraDeviceType to your Info.plist.\n",
      "2025-04-08 20:39:31.897 Python[11393:572670] WARNING: Secure coding is not enabled for restorable state! Enable secure coding by implementing NSApplicationDelegate.applicationSupportsSecureRestorableState: and returning YES.\n"
     ]
    },
    {
     "ename": "",
     "evalue": "",
     "output_type": "error",
     "traceback": [
      "\u001b[1;31mThe Kernel crashed while executing code in the the current cell or a previous cell. Please review the code in the cell(s) to identify a possible cause of the failure. Click <a href='https://aka.ms/vscodeJupyterKernelCrash'>here</a> for more info. View Jupyter <a href='command:jupyter.viewOutput'>log</a> for further details."
     ]
    }
   ],
   "source": [
    "# --- Start Webcam ---\n",
    "cap = cv2.VideoCapture(0)\n",
    "\n",
    "while True:\n",
    "    ret, frame = cap.read()\n",
    "    if not ret:\n",
    "        break\n",
    "\n",
    "    # Preprocess: resize and normalize\n",
    "    frame_resized = cv2.resize(frame, (IMG_SIZE, IMG_SIZE))\n",
    "    frame_rgb = cv2.cvtColor(frame_resized, cv2.COLOR_BGR2RGB)\n",
    "    frame_normalized = frame_rgb / 255.0\n",
    "\n",
    "    sequence.append(frame_normalized)\n",
    "\n",
    "    # Only predict if sequence is full\n",
    "    if len(sequence) == SEQUENCE_LENGTH:\n",
    "        input_data = np.expand_dims(sequence[-1], axis=0)  # shape: (1, 224, 224, 3)\n",
    "        prediction = model.predict(input_data, verbose=0)[0]\n",
    "        predicted_label = CLASSES[np.argmax(prediction)]\n",
    "        confidence = np.max(prediction)\n",
    "\n",
    "\n",
    "        # Show prediction on frame\n",
    "        cv2.putText(frame, f\"{predicted_label} ({confidence:.2f})\", (10, 30),\n",
    "                    cv2.FONT_HERSHEY_SIMPLEX, 1, (0, 255, 0), 2)\n",
    "\n",
    "    # Show frame\n",
    "    cv2.imshow('ASL Real-Time Prediction', frame)\n",
    "\n",
    "    if cv2.waitKey(1) & 0xFF == ord('q'):\n",
    "        break\n",
    "\n",
    "# Cleanup\n",
    "cap.release()\n",
    "cv2.destroyAllWindows()"
   ]
  }
 ],
 "metadata": {
  "kernelspec": {
   "display_name": "Python 3",
   "language": "python",
   "name": "python3"
  },
  "language_info": {
   "codemirror_mode": {
    "name": "ipython",
    "version": 3
   },
   "file_extension": ".py",
   "mimetype": "text/x-python",
   "name": "python",
   "nbconvert_exporter": "python",
   "pygments_lexer": "ipython3",
   "version": "3.12.0"
  }
 },
 "nbformat": 4,
 "nbformat_minor": 5
}
